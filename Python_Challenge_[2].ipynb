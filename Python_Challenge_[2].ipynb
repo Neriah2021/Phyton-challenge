{
  "cells": [
    {
      "cell_type": "markdown",
      "metadata": {
        "id": "D2fS0o1XnSWw"
      },
      "source": [
        "![Dreams](https://cdn.pixabay.com/photo/2020/09/09/04/46/dream-big-work-hard-5556539_960_720.jpg)"
      ]
    },
    {
      "cell_type": "markdown",
      "metadata": {
        "id": "GHHIyWdOeJ5K"
      },
      "source": [
        "### PREPARATION\n",
        "Go through the slide to revise what we did in class.\n",
        "\n",
        "### EXTRA RESOURCES\n",
        "The following links will direct you to W3Schools, where you can further expand your knowledge beyond the slides. This resource is intended to complement, rather than replace, the content covered in the slides.\n",
        "\n",
        "* For string, click [HERE](https://www.w3schools.com/python/python_strings.asp)\n",
        "\n",
        "* For list, click [HERE](https://www.w3schools.com/python/python_lists.asp)\n",
        "\n",
        "* For tuple, click [HERE](https://www.w3schools.com/python/python_tuples.asp)\n",
        "\n",
        "* For set, click [HERE](https://www.w3schools.com/python/python_sets.asp)\n",
        "\n",
        "* For dictionary, click [HERE](https://www.w3schools.com/python/python_dictionaries.asp)\n",
        "\n",
        "<br/><br/>\n",
        "<u><b>NOTE</b></u>\n",
        "<p>You can always reference the links above for easier to navigate reading tutorial. <br/><br/> Good luck! </p>"
      ]
    },
    {
      "cell_type": "markdown",
      "metadata": {
        "id": "S2bi4K7u-4i5"
      },
      "source": [
        "# IMPORTANT ASSIGNMENT"
      ]
    },
    {
      "cell_type": "markdown",
      "metadata": {
        "id": "luYgMzoATrCM"
      },
      "source": [
        "### QUESTION 1\n",
        "\n",
        "Ask a user to enter a value between `0` and `100` which represent temperature in degree celcius. Convert this value of temperature in degree celcius to  fahrenheit. Assign the converted value to a variable called `result` and print out the value of the `result` variable.\n",
        "\n",
        "**HINT:** The formular for converting temperature value in degree celcius to fehrenheit is:\n",
        "\n",
        "$f$ = $(c \\times \\frac{9}{5}) + 32$\n",
        "\n",
        "* where f represent temperature in fehrenheit\n",
        "* where c represent temperature in celcius\n",
        "\n",
        "For example: if c(user input) = 5, then equivalent value in fehrenheit is:\n",
        "$f$ = $(5 \\times \\frac{9}{5}) + 32 = 47$"
      ]
    },
    {
      "cell_type": "code",
      "execution_count": 23,
      "metadata": {
        "id": "lCzx_wv-460s"
      },
      "outputs": [
        {
          "name": "stdout",
          "output_type": "stream",
          "text": [
            "1.00 degrees Celsius is equivalent to 33.80 degrees Fahrenheit\n"
          ]
        }
      ],
      "source": [
        "def celsius_to_fahrenheit():\n",
        "\n",
        "  try:\n",
        "    celsius = float(input(\"Enter a temperature between 0 and 100 degrees Celsius: \"))\n",
        "    if 0 <= celsius <= 100:\n",
        "      fahrenheit = (celsius * (9/5)) + 32\n",
        "      print(f\"{celsius:.2f} degrees Celsius is equivalent to {fahrenheit:.2f} degrees Fahrenheit\")\n",
        "    else:\n",
        "      print(\"Invalid input. Please enter a temperature between 0 and 100 degrees Celsius.\")\n",
        "  except ValueError:\n",
        "    print(\"Invalid input. Please enter a numerical value.\")\n",
        "\n",
        "celsius_to_fahrenheit()\n"
      ]
    },
    {
      "cell_type": "markdown",
      "metadata": {
        "id": "VjvM54SsWZWe"
      },
      "source": [
        "### QUESTION 2\n",
        "\n",
        "Given a list of numbers: `lst=[1,6,1,10,7,100,0]`, print out two new variable (*name them whatever you want*) that reference the list above in:\n",
        "1. Ascending order and  \n",
        "2. descending order respectively.\n",
        "\n",
        "**Hint:** python list has the `sort` method that can be used sort a list. Run this code, `help(list)`, to read more on how to use the `sort` method to order a list in ascending and descening."
      ]
    },
    {
      "cell_type": "code",
      "execution_count": 24,
      "metadata": {
        "id": "rWNrs9ElWXvK"
      },
      "outputs": [
        {
          "name": "stdout",
          "output_type": "stream",
          "text": [
            "Ascending order: [0, 1, 1, 6, 7, 10, 100]\n",
            "Descending order: [100, 10, 7, 6, 1, 1, 0]\n"
          ]
        }
      ],
      "source": [
        "lst = [1, 6, 1, 10, 7, 100, 0]\n",
        "\n",
        "# Creating copies of the list to avoid modifying the original\n",
        "lst_ascending = lst.copy()\n",
        "lst_descending = lst.copy()\n",
        "\n",
        "# Sorting lists in ascending and descending order \n",
        "lst_ascending.sort()\n",
        "lst_descending.sort(reverse=True)\n",
        "\n",
        "# Print the sorted lists\n",
        "print(\"Ascending order:\", lst_ascending)\n",
        "print(\"Descending order:\", lst_descending)\n"
      ]
    },
    {
      "cell_type": "markdown",
      "metadata": {
        "id": "g971zeFUWxcz"
      },
      "source": [
        "### QUESTION 3\n",
        "Given the formular:\n",
        "$V = \\frac{4}{3} * \\pi * r^3$,\n",
        "calculate the volume of a sphere of radius $r=5$ and the constant $\\pi=3.142$?\n",
        "\n",
        "Save the result in a variable called `volume_of_cylinder_r5` and print out the value of the variable"
      ]
    },
    {
      "cell_type": "code",
      "execution_count": 25,
      "metadata": {
        "id": "qX4j1E92WuYC"
      },
      "outputs": [
        {
          "name": "stdout",
          "output_type": "stream",
          "text": [
            "The volume of the sphere with radius 5 is approximately 523.67\n"
          ]
        }
      ],
      "source": [
        "pi = 3.142\n",
        "radius = 5\n",
        "\n",
        "# Formula for calculating volume of a sphere\n",
        "volume_of_sphere = (4/3) * pi * radius**3\n",
        "\n",
        "# Print the result\n",
        "print(f\"The volume of the sphere with radius {radius} is approximately {volume_of_sphere:.2f}\")\n"
      ]
    },
    {
      "cell_type": "markdown",
      "metadata": {
        "id": "EMsf18HYX1cv"
      },
      "source": [
        "### QUESTION 4\n",
        "\n",
        "Suppose the cover price of a book is `$24.95`, but bookstores get a `40%` discount. Shipping costs `$3` for the first copy and `75 cents` for each additional copy. What is the total wholesale cost for `60` copies?"
      ]
    },
    {
      "cell_type": "code",
      "execution_count": 26,
      "metadata": {
        "id": "aOa8HuP_XaRX"
      },
      "outputs": [
        {
          "name": "stdout",
          "output_type": "stream",
          "text": [
            "The total wholesale cost for 60 copies is $945.45\n"
          ]
        }
      ],
      "source": [
        "cover_price = 24.95\n",
        "discount_rate = 40  # As percentage\n",
        "first_copy_shipping = 3\n",
        "additional_copy_shipping = 0.75\n",
        "num_copies = 60\n",
        "\n",
        "# Calculatin the wholesale price per book (after discount)\n",
        "wholesale_price = cover_price * (1 - discount_rate / 100)\n",
        "\n",
        "# Calculating the total shipping cost for additional copies\n",
        "additional_copies_shipping = (num_copies - 1) * additional_copy_shipping\n",
        "\n",
        "# Calculating the total shipping cost (including first copy)\n",
        "total_shipping_cost = first_copy_shipping + additional_copies_shipping\n",
        "\n",
        "# Calculating the total wholesale cost\n",
        "total_cost = wholesale_price * num_copies + total_shipping_cost\n",
        "\n",
        "# Print the result\n",
        "print(f\"The total wholesale cost for {num_copies} copies is ${total_cost:.2f}\")\n"
      ]
    },
    {
      "cell_type": "markdown",
      "metadata": {
        "id": "bOEUiPBpae2r"
      },
      "source": [
        "### QUESTION 5\n",
        "\n",
        "Ask a user to enter a word(words) of odd length and assign the user entering to a variable named `entry`. Print the first, middle and last character from the `entry` value.\n",
        "\n",
        "e.g if `entry = \"James\"`, the printed value will be `Jms`\n",
        "\n",
        "**Hing:** use the floor division to get the index of the middle value (`len(entry)//2`). Use what you learnt in class regarding index to get the first and last characters. Finally, concatenate the result together."
      ]
    },
    {
      "cell_type": "code",
      "execution_count": 27,
      "metadata": {
        "id": "HWP171zFaNqA"
      },
      "outputs": [
        {
          "name": "stdout",
          "output_type": "stream",
          "text": [
            "First, middle, and last characters of 'Blair': Bar\n"
          ]
        }
      ],
      "source": [
        "def get_first_middle_last(word):\n",
        "\n",
        "  if len(word) % 2 != 1:\n",
        "    raise ValueError(\"Please enter a word with an odd length.\")\n",
        "\n",
        "  # Get the middle index using floor division\n",
        "  middle_index = len(word) // 2\n",
        "\n",
        "  # Extracting the characters\n",
        "  first_char = word[0]\n",
        "  middle_char = word[middle_index]\n",
        "  last_char = word[-1]\n",
        "\n",
        "  # Combine and print the characters\n",
        "  result = first_char + middle_char + last_char\n",
        "  print(f\"First, middle, and last characters of '{word}': {result}\")\n",
        "\n",
        "# Get user input\n",
        "word = input(\"Enter a word with an odd length: \")\n",
        "\n",
        "try:\n",
        "  get_first_middle_last(word)\n",
        "except ValueError as e:\n",
        "  print(e)\n"
      ]
    },
    {
      "cell_type": "markdown",
      "metadata": {
        "id": "NhJ5JTYzcFLB"
      },
      "source": [
        "### QUESTION 6\n",
        "\n",
        "Ask a user to enter a name of odd length and assign the user entering to a variable named `name`.\n",
        "\n",
        "Print a string made of the middle three characters of a given string.\n",
        "\n",
        "e.g if `name = \"JaSonAy\"`, printed result will be `Son`"
      ]
    },
    {
      "cell_type": "code",
      "execution_count": 28,
      "metadata": {
        "colab": {
          "base_uri": "https://localhost:8080/"
        },
        "id": "5YQ5n6zmbpq5",
        "outputId": "6cf04d56-b2d9-4359-fd0e-2d70b2dbf11c"
      },
      "outputs": [
        {
          "name": "stdout",
          "output_type": "stream",
          "text": [
            "Middle three characters of 'JaSonAy': Son\n"
          ]
        }
      ],
      "source": [
        "name = input (\"Please enter a word of odd characters with no space: \")\n",
        "def print_middle_three(name):\n",
        "\n",
        "  if len(name) % 2 != 1 or len(name) < 3:\n",
        "    raise ValueError(\"Please enter a name with an odd length (at least 3 characters).\")\n",
        "\n",
        "  # Get the middle index using floor division\n",
        "  middle_index = len(name) // 2\n",
        "\n",
        "  # Extract the middle three characters\n",
        "  middle_substring = name[middle_index - 1:middle_index + 2]  # Adjusting slice to include 3 character\n",
        "\n",
        "  print(f\"Middle three characters of '{name}': {middle_substring}\")\n",
        "\n",
        "# Getting user input\n",
        "name = input(\"Enter a name with an odd length (at least 3 characters): \")\n",
        "\n",
        "try:\n",
        "  print_middle_three(name)\n",
        "except ValueError as e:\n",
        "  print(e)\n",
        "\n"
      ]
    },
    {
      "cell_type": "markdown",
      "metadata": {
        "id": "3P7_qrYIdXkF"
      },
      "source": [
        "### QUESTION 7\n",
        "\n",
        "Given two strings, `word1` and `word2`, write a program to return a new string made of `word1` and `word2` first, middle, and last characters.\n",
        "\n",
        "Initialise the two variables as: `word1 = \"America\"` and `word2 = \"Japan\"`"
      ]
    },
    {
      "cell_type": "code",
      "execution_count": 29,
      "metadata": {
        "id": "rdlGKf95c_00"
      },
      "outputs": [
        {
          "name": "stdout",
          "output_type": "stream",
          "text": [
            "Combined string: Aparn\n"
          ]
        }
      ],
      "source": [
        "word1 = \"America\"\n",
        "word2 = \"Japan\"\n",
        "\n",
        "# Get the middle index for each word \n",
        "middle_index1 = len(word1) // 2 if len(word1) % 2 != 0 else len(word1) // 2 - 1\n",
        "middle_index2 = len(word2) // 2 if len(word2) % 2 != 0 else len(word2) // 2 - 1\n",
        "\n",
        "# Extracting first, middle, and last characters\n",
        "first_char1 = word1[0]\n",
        "middle_char1 = word1[middle_index1]\n",
        "last_char1 = word1[-1]\n",
        "\n",
        "first_char2 = word2[0]\n",
        "middle_char2 = word2[middle_index2]\n",
        "last_char2 = word2[-1]\n",
        "\n",
        "# Combine characters to form the new sting\n",
        "combined_string = first_char1 + middle_char2 + last_char1 + middle_char1 + last_char2\n",
        "\n",
        "print(f\"Combined string: {combined_string}\")\n"
      ]
    },
    {
      "cell_type": "markdown",
      "metadata": {
        "id": "2-78Ro5ni58E"
      },
      "source": [
        "### QUESTION 8\n",
        "\n",
        "Given a variable and its value as `word = \"PyNaTive\"`. This word contains a combination of lower and upper case letters.\n",
        "\n",
        "Write a program to arrange the characters of a string so that all lowercase letters should come first.\n",
        "\n",
        "**Hint:** you can iterate through the characters using `for` loop and checl if each character is upper case or not. You can create an empty string and concatenate those that lowercase character to the empty string first followed by those that are uppercase."
      ]
    },
    {
      "cell_type": "code",
      "execution_count": 30,
      "metadata": {
        "id": "XV_BOE35i-qi"
      },
      "outputs": [
        {
          "name": "stdout",
          "output_type": "stream",
          "text": [
            "Original word: PyNaTive\n",
            "Word with lowercase letters first: yaivePNT\n"
          ]
        }
      ],
      "source": [
        "word = \"PyNaTive\"\n",
        "\n",
        "# Initialize empty strings to store lowercase and uppercase characters\n",
        "lowercase_letters = \"\"\n",
        "uppercase_letters = \"\"\n",
        "\n",
        "# Iterate through each character in the word\n",
        "for char in word:\n",
        "  # Checking if the character is lowercase\n",
        "  if char.islower():\n",
        "    lowercase_letters += char\n",
        "  else:\n",
        "    uppercase_letters += char\n",
        "\n",
        "# Combine the lowercase and uppercase strings\n",
        "arranged_word = lowercase_letters + uppercase_letters\n",
        "\n",
        "print(f\"Original word: {word}\")\n",
        "print(f\"Word with lowercase letters first: {arranged_word}\")\n"
      ]
    },
    {
      "cell_type": "markdown",
      "metadata": {
        "id": "ZU6IInXneo22"
      },
      "source": [
        "### QUESTION 9\n",
        "\n",
        "Count all letters, digits, and special symbols from a given string:\n",
        "\n",
        "`characters = \"P@#yn26at^&i5ve\"`.\n",
        "\n",
        "**Hint:** remember that every characters in a string is a string object even it is a number. For example, the the first number in the string above is something like this, `'2'` (string) and not something like this, `2` (integer) without the quotation. `str` (string) object has a method that can check if a member of a string is a number (e.g '2'). Call `help` on `str` to find the string method that will help you with this challenge."
      ]
    },
    {
      "cell_type": "code",
      "execution_count": 31,
      "metadata": {
        "id": "_SugRxMVe3ib"
      },
      "outputs": [
        {
          "name": "stdout",
          "output_type": "stream",
          "text": [
            "Letters: 8\n",
            "Digits: 3\n",
            "Special symbols: 4\n"
          ]
        }
      ],
      "source": [
        "characters = \"P@#yn26at^&i5ve\"\n",
        "\n",
        "# Initializing counters\n",
        "letter_count = 0\n",
        "digit_count = 0\n",
        "special_symbol_count = 0\n",
        "\n",
        "# Iterating through each character\n",
        "for char in characters:\n",
        "  # Checking if character is a letter\n",
        "  if char.isalpha():\n",
        "    letter_count += 1\n",
        "  # Checking if character is a digit\n",
        "  elif char.isdigit():\n",
        "    digit_count += 1\n",
        "  else:\n",
        "    # Any other character is considered a special symbol\n",
        "    special_symbol_count += 1\n",
        "\n",
        "# Print the counts\n",
        "print(f\"Letters: {letter_count}\")\n",
        "print(f\"Digits: {digit_count}\")\n",
        "print(f\"Special symbols: {special_symbol_count}\")\n"
      ]
    },
    {
      "cell_type": "markdown",
      "metadata": {
        "id": "9uoN9MJWgDeu"
      },
      "source": [
        "### QUESTION 10\n",
        "\n",
        "Write a program to check if two strings are balanced. For example, two strings are balanced if all the characters in the first string are present in the second string. The character’s position doesn’t matter.\n",
        "\n",
        "Initialise the two strings as: `string1 = \"Yn\"` and `string2 = \"PYnative\"`"
      ]
    },
    {
      "cell_type": "code",
      "execution_count": 32,
      "metadata": {
        "id": "6mBEje7Ifhf5"
      },
      "outputs": [
        {
          "name": "stdout",
          "output_type": "stream",
          "text": [
            "The strings 'Yn' and 'PYnative' are balanced.\n"
          ]
        }
      ],
      "source": [
        "string1 = \"Yn\"\n",
        "string2 = \"PYnative\"\n",
        "\n",
        "# Creating a set of characters from the first string for efficient membership checks\n",
        "char_set = set(string1)\n",
        "\n",
        "# Checking if all characters in char_set are present in string2\n",
        "is_balanced = all(char in string2 for char in char_set)\n",
        "\n",
        "if is_balanced:\n",
        "  print(f\"The strings '{string1}' and '{string2}' are balanced.\")\n",
        "else:\n",
        "  print(f\"The strings '{string1}' and '{string2}' are not balanced.\")\n"
      ]
    },
    {
      "cell_type": "markdown",
      "metadata": {
        "id": "u7PwJOE5hNWP"
      },
      "source": [
        "### QUESTION 11\n",
        "\n",
        "Write a program to find all occurrences of “USA” in a given sentence ignoring the case.\n",
        "\n",
        "Given: `sentence = \"Welcome to USA. usa awesome, isn't it?\"`. The result should be `2`."
      ]
    },
    {
      "cell_type": "code",
      "execution_count": 33,
      "metadata": {
        "id": "Al8KEGQAgz0s"
      },
      "outputs": [
        {
          "name": "stdout",
          "output_type": "stream",
          "text": [
            "Number of occurrences of 'USA' (ignoring case): 2\n"
          ]
        }
      ],
      "source": [
        "def count_usa_occurrences(sentence):\n",
        " \n",
        "  # Converting the sentence to lowercase for case-insensitive matching\n",
        "  lowercase_sentence = sentence.lower()\n",
        "  target_substring = \"usa\"\n",
        "\n",
        "  # Counting occurrences using string counting\n",
        "  return lowercase_sentence.count(target_substring)\n",
        "\n",
        "# Example usage\n",
        "sentence = \"Did you hear about the new US Ambassador? They're visiting all 50 states in USA, including Alaska and Hawaii. They'll be in the USA for a couple of months.\"\n",
        "usa_count = count_usa_occurrences(sentence)\n",
        "\n",
        "print(f\"Number of occurrences of 'USA' (ignoring case): {usa_count}\")\n"
      ]
    },
    {
      "cell_type": "markdown",
      "metadata": {
        "id": "5vkPWV8KijgZ"
      },
      "source": [
        "### QUESTION 12\n",
        "\n",
        "Given a string, write a program to return only the sum and average (in 2 decimal places) of the digits that appear in the string, ignoring all other characters.\n",
        "\n",
        "Given: `str1 = \"PYnative29@#8496\"`, the sum of the digit is `38` and the average is `6.33`."
      ]
    },
    {
      "cell_type": "code",
      "execution_count": 34,
      "metadata": {
        "id": "wlwWXhnukJ3t"
      },
      "outputs": [
        {
          "name": "stdout",
          "output_type": "stream",
          "text": [
            "Sum of digits: 38\n",
            "Average of digits (rounded to 2 decimal places): 6.33\n"
          ]
        }
      ],
      "source": [
        "def calculate_digit_stats(text_string):\n",
        "  \n",
        "  # Extracting digits using list comprehension and filter\n",
        "  digits = [int(char) for char in text_string if char.isdigit()]\n",
        "\n",
        "  # Checking if any digits were found\n",
        "  if not digits:\n",
        "    raise ValueError(\"No digits found in the string.\")\n",
        "\n",
        "  # Calculating sum and average\n",
        "  sum_of_digits = sum(digits)\n",
        "  average = round(sum_of_digits / len(digits), 2)\n",
        "\n",
        "  return sum_of_digits, average\n",
        "\n",
        "# Example usage\n",
        "str1 = \"PYnative29@#8496\"\n",
        "try:\n",
        "  sum_digits, avg_digits = calculate_digit_stats(str1)\n",
        "  print(f\"Sum of digits: {sum_digits}\")\n",
        "  print(f\"Average of digits (rounded to 2 decimal places): {avg_digits}\")\n",
        "except ValueError as e:\n",
        "  print(e)\n"
      ]
    },
    {
      "cell_type": "markdown",
      "metadata": {
        "id": "_Kw83u2Kj30s"
      },
      "source": [
        "### QUESTION 13\n",
        "\n",
        "Write a program to print all characters and the number of characters within the string in **question 12**.\n",
        "\n",
        "**Hint:** Instantiate a variable and assign `0` to it. Then iterate through the string. For each iteration, check if the string is a character (any of letter a-z or A-Z). If it is, increment that variable you instantiated by 1.  "
      ]
    },
    {
      "cell_type": "code",
      "execution_count": 35,
      "metadata": {
        "id": "33R0a7xskKtN"
      },
      "outputs": [
        {
          "name": "stdout",
          "output_type": "stream",
          "text": [
            "Character 'P': 1\n",
            "Character 'Y': 1\n",
            "Character 'n': 1\n",
            "Character 'a': 1\n",
            "Character 't': 1\n",
            "Character 'i': 1\n",
            "Character 'v': 1\n",
            "Character 'e': 1\n",
            "Character '2': 1\n",
            "Character '9': 2\n",
            "Character '@': 1\n",
            "Character '#': 1\n",
            "Character '8': 1\n",
            "Character '4': 1\n",
            "Character '6': 1\n"
          ]
        }
      ],
      "source": [
        "def count_characters(text_string):\n",
        "\n",
        "  # Creating a dictionary to store character counts\n",
        "  char_counts = {}\n",
        "\n",
        "  # Iterating through each character in the string\n",
        "  for char in text_string:\n",
        "    # Increment the count for this character\n",
        "    char_counts[char] = char_counts.get(char, 0) + 1\n",
        "\n",
        "  # Print the characters and their counts\n",
        "  if char_counts:\n",
        "    for char, count in char_counts.items():\n",
        "      print(f\"Character '{char}': {count}\")\n",
        "  else:\n",
        "    print(\"The string is empty or contains no characters.\")\n",
        "\n",
        "# Example usage\n",
        "str1 = \"PYnative29@#8496\"\n",
        "count_characters(str1)\n"
      ]
    },
    {
      "cell_type": "markdown",
      "metadata": {
        "id": "O0nhnHhOj5z-"
      },
      "source": [
        "### QUESTION 14\n",
        "\n",
        "Reverse and print the output of the string you got in **question 13**.\n"
      ]
    },
    {
      "cell_type": "code",
      "execution_count": 36,
      "metadata": {
        "id": "XqZBV9pzl2fw"
      },
      "outputs": [
        {
          "name": "stdout",
          "output_type": "stream",
          "text": [
            "\n",
            "Character counts (original order):\n",
            "Character 'P': 1\n",
            "Character 'Y': 1\n",
            "Character 'n': 1\n",
            "Character 'a': 1\n",
            "Character 't': 1\n",
            "Character 'i': 1\n",
            "Character 'v': 1\n",
            "Character 'e': 1\n",
            "Character '2': 1\n",
            "Character '9': 2\n",
            "Character '@': 1\n",
            "Character '#': 1\n",
            "Character '8': 1\n",
            "Character '4': 1\n",
            "Character '6': 1\n",
            "\n",
            "Reversed string: 6948#@92evitanYP\n"
          ]
        }
      ],
      "source": [
        "def count_and_reverse_characters(text_string):\n",
        "\n",
        "  # Creating a dictionary to store character counts\n",
        "  char_counts = {}\n",
        "\n",
        "  # Iterating through each character in the string\n",
        "  for char in text_string:\n",
        "    # Increment the count for this character\n",
        "    char_counts[char] = char_counts.get(char, 0) + 1\n",
        "\n",
        "  # Reverse the string\n",
        "  reversed_string = text_string[::-1]\n",
        "\n",
        "  # Print the characters and their counts (optional)\n",
        "  if char_counts:\n",
        "    print(\"\\nCharacter counts (original order):\")\n",
        "    for char, count in char_counts.items():\n",
        "      print(f\"Character '{char}': {count}\")\n",
        "  else:\n",
        "    print(\"The string is empty or contains no characters.\")\n",
        "\n",
        "  # Print the reversed string\n",
        "  print(f\"\\nReversed string: {reversed_string}\")\n",
        "\n",
        "# Example usage\n",
        "str1 = \"PYnative29@#8496\"\n",
        "count_and_reverse_characters(str1)\n"
      ]
    },
    {
      "cell_type": "markdown",
      "metadata": {
        "id": "RQisITJCj7qI"
      },
      "source": [
        "### QUESTION 15\n",
        "\n",
        "Write a program to print the index of the first character (`B`) of the last substring `“Beauty”` in the sentence:\n",
        "\n",
        "`str1 = \"Beauty is a data scientist who knows Python. Beauty works at google.\"`"
      ]
    },
    {
      "cell_type": "code",
      "execution_count": 37,
      "metadata": {
        "id": "40Lhl9rGqfg_"
      },
      "outputs": [
        {
          "name": "stdout",
          "output_type": "stream",
          "text": [
            "Index of the first character 'B' in the last 'Beauty': 45\n"
          ]
        }
      ],
      "source": [
        "\n",
        "str1 = \"Beauty is a data scientist who knows Python. Beauty works at google.\"\n",
        "\n",
        "# Finding the last occurrence of the substring \"Beauty\" (case-sensitive)\n",
        "last_beauty_index = str1.rfind(\"Beauty\")\n",
        "\n",
        "# Check if \"Beauty\" was found\n",
        "if last_beauty_index != -1:\n",
        "  # Print the index of the first character \"B\"\n",
        "  print(f\"Index of the first character 'B' in the last 'Beauty': {last_beauty_index}\")\n",
        "else:\n",
        "  print(\"The substring 'Beauty' is not found in the sentence.\")\n",
        "\n"
      ]
    },
    {
      "cell_type": "markdown",
      "metadata": {
        "id": "vSSW4Bpjj9So"
      },
      "source": [
        "### QUESTION 16\n",
        "\n",
        "Write a program to split a given string on hyphens and display each substring. Given: `str1 = Beauty-is-a-data-scientist.`\n",
        "\n",
        "**Hint:** string has a split method. Call help on `str`."
      ]
    },
    {
      "cell_type": "code",
      "execution_count": 38,
      "metadata": {
        "id": "c76N_JwAhrnP"
      },
      "outputs": [
        {
          "name": "stdout",
          "output_type": "stream",
          "text": [
            "Beauty\n",
            "is\n",
            "a\n",
            "data\n",
            "scientist.\n"
          ]
        }
      ],
      "source": [
        "str1 = \"Beauty-is-a-data-scientist.\"\n",
        "\n",
        "# Split the string on hyphens\n",
        "substrings = str1.split(\"-\")\n",
        "\n",
        "# Print each substring\n",
        "for substring in substrings:\n",
        "  print(substring)\n",
        "\n"
      ]
    },
    {
      "cell_type": "markdown",
      "metadata": {
        "id": "7j6P0HIkXP1o"
      },
      "source": [
        "# BONUS QUESTION\n",
        "### FINDING THE MEDIAN INDEX OF A SEQUECE WITH EVEN SIZE IN PYTHON\n",
        "\n",
        "One thing i didn't mention was that the median index is different from the median value so for median index of a list with odd number as its size, we will have to choose the left or right index of the two middle index\n",
        "\n",
        "Check the code below for example"
      ]
    },
    {
      "cell_type": "code",
      "execution_count": 39,
      "metadata": {
        "id": "bo_OVVfMiDeB"
      },
      "outputs": [
        {
          "name": "stdout",
          "output_type": "stream",
          "text": [
            "15\n",
            "8.0\n"
          ]
        },
        {
          "data": {
            "text/plain": [
              "23"
            ]
          },
          "execution_count": 39,
          "metadata": {},
          "output_type": "execute_result"
        }
      ],
      "source": [
        "numbers = [1,2,39,4,166,7,8,93,50,12,11,23,45,67,78]\n",
        "sorted (numbers)\n",
        "n = len(numbers)\n",
        "print(n)\n",
        "numbers2= sum(numbers)\n",
        "numbers3 = (numbers2 + 1)\n",
        "# Median Index formular = [(n+1)/2]th\n",
        "median_index = (n+1)/2\n",
        "print (median_index)\n",
        "#Median Index is the eight value\n",
        "Numbers3 = sorted (numbers)\n",
        "Numbers3 [7]\n"
      ]
    },
    {
      "cell_type": "markdown",
      "metadata": {
        "id": "TsbYn3D7aYCL"
      },
      "source": [
        "Since we have two middle values becaue the length of the string is 2, we can say we don't have middle index unless we want to use the value of `mid_index` above which is 2 or we use a value below it which 1 (i.e 2-1 which is equal to 1 for the second position) as the index value."
      ]
    },
    {
      "cell_type": "markdown",
      "metadata": {
        "id": "q13bqIcB-CVP"
      },
      "source": [
        "# READING ASSIGNMENT - PYTHON FUNCTION\n",
        "\n",
        "Read about [**python function here**](https://www.w3schools.com/python/python_functions.asp)."
      ]
    },
    {
      "cell_type": "code",
      "execution_count": null,
      "metadata": {
        "id": "PHzURxC7aRIM"
      },
      "outputs": [],
      "source": []
    }
  ],
  "metadata": {
    "colab": {
      "provenance": []
    },
    "kernelspec": {
      "display_name": "Python 3",
      "name": "python3"
    },
    "language_info": {
      "codemirror_mode": {
        "name": "ipython",
        "version": 3
      },
      "file_extension": ".py",
      "mimetype": "text/x-python",
      "name": "python",
      "nbconvert_exporter": "python",
      "pygments_lexer": "ipython3",
      "version": "3.11.0"
    }
  },
  "nbformat": 4,
  "nbformat_minor": 0
}
